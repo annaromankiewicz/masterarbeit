{
 "cells": [
  {
   "cell_type": "code",
   "execution_count": 1,
   "metadata": {},
   "outputs": [],
   "source": [
    "# Import libraries\n",
    "import pandas as pd # To manage tables\n",
    "import numpy as np # To manage numbers and vectors\n",
    "import matplotlib.pyplot as plt\n",
    "import seaborn as sns"
   ]
  },
  {
   "cell_type": "code",
   "execution_count": 2,
   "metadata": {},
   "outputs": [],
   "source": [
    "pd.set_option('display.max_columns', None)"
   ]
  },
  {
   "cell_type": "code",
   "execution_count": 3,
   "metadata": {},
   "outputs": [],
   "source": [
    "w1 = pd.read_spss('./datenstze/W1_PPS_02.sav')\n",
    "\n",
    "w2 = pd.read_spss('./datenstze/W2_PPS_01.sav')\n",
    "\n",
    "w3 = pd.read_spss('./datenstze/W3_PPS_Datensatz01.sav')\n",
    "\n",
    "w4 = pd.read_spss('./datenstze/W4_PPS_SoSe21_v1.sav')\n",
    "\n",
    "w5= pd.read_spss('./datenstze/W5_PPS_02.sav')\n",
    "\n",
    "## Files\n",
    "# 1. './datenstze/Welle6_v2_4_Gruppen.sav'\n",
    "# 2. './datenstze/Welle6_v3_Gruppen.sav'\n",
    "w6 = pd.read_spss('./datenstze/Welle6_v3_Gruppen.sav')\n",
    "\n",
    "w8 = pd.read_spss('./datenstze/Welle8_v2.sav')\n"
   ]
  },
  {
   "cell_type": "code",
   "execution_count": 4,
   "metadata": {},
   "outputs": [],
   "source": [
    "def define_praktikums(row, tuples, returnList=False):\n",
    "    list_praktikums = []\n",
    "    for (col, praktikum) in tuples:\n",
    "        if(row[col] == 'ausgewählt' or row[col] == 'Praktikum absolviert'):\n",
    "            list_praktikums.append(praktikum)\n",
    "    if returnList:\n",
    "        return list_praktikums\n",
    "    if len(list_praktikums) > 0:\n",
    "        return list_praktikums[-1]\n",
    "    else:\n",
    "        return None"
   ]
  },
  {
   "cell_type": "code",
   "execution_count": 5,
   "metadata": {},
   "outputs": [],
   "source": [
    "praktikums_names = {\n",
    "    \"Fachpraktikum A\": \"FP A\", \n",
    "    \"Fachpraktikum B\": \"FP B\",\n",
    "    \"Vertiefungspraktikum A\": \"VP A\", \n",
    "    \"Vertiefungspraktikum B\": \"VP B\", \n",
    "    \"Einführungspraktikum B\": \"EP B\",\n",
    "    \"Einführungspraktikum A\": \"EP A\" \n",
    "}\n",
    "\n",
    "praktikums_w1 = [('D6_01','FP A'),('D6_02','FP B'),('D6_03','VP A'),('D6_04','VP B')]\n",
    "w1['Praktikum'] = w1.apply(lambda row: define_praktikums(row, praktikums_w1 , returnList=False), axis=1)\n",
    "\n",
    "praktikums_w2 = [('SD23_01','FP A'),('SD23_02','FP B'),('SD23_03','VP A'),('SD23_04','VP B')]\n",
    "w2['Praktikum'] = w2.apply(lambda row: define_praktikums(row,praktikums_w2, returnList=False), axis=1)\n",
    "\n",
    "praktikums_w3_w4 = [('PS11_01','FP A'),('PS11_02','FP B'),('PS11_03','VP A'),('PS11_04','VP B'),('PS11_05','EP A')]\n",
    "\n",
    "w3['Praktikum'] = w3.apply(lambda row: define_praktikums(row,praktikums_w3_w4,returnList=False), axis=1)\n",
    "w4['Praktikum'] = w4.apply(lambda row: define_praktikums(row,praktikums_w3_w4,returnList=False), axis=1)\n",
    "w5['Praktikum'] = w5['PS11']\n",
    "w5['Praktikum'].replace(praktikums_names, inplace=True)\n",
    "w6['Praktikum'] = w6['PS11']\n",
    "w6['Praktikum'].replace(praktikums_names, inplace=True)\n",
    "\n",
    "praktikums_w8 = [('SD08_01','EP A'),('SD08_02','EP B'),('SD08_03','FP A'),('SD08_04','FP B'), ('SD08_05','VP A'),('SD08_06','VP B'),('SD08_07','MP A')]\n",
    "w8['Praktikum'] = w8.apply(lambda row: define_praktikums(row,praktikums_w8, returnList=False), axis=1)\n"
   ]
  },
  {
   "cell_type": "code",
   "execution_count": 6,
   "metadata": {},
   "outputs": [],
   "source": [
    "# Generate ID of students\n",
    "\n",
    "# Code is [VornameMutter] + [VornameVater] + [ErsteBuchstabe Vorname Student] + [Tag Geburstag] + [(G: grün, B: blue, B: brown) * (ignoring)]\n",
    "w2['ID_student'] = w2['ID01_01'] +w2['ID01_03'] + w2['ID01_05'] + w2['ID01_07'].str.zfill(2)\n",
    "w3['ID_student'] = w3['CV27_01'].str[:5]\n",
    "w4['ID_student'] = w4['CV27_01'] +w4['CV27_02'] + w4['CV27_03'] + w4['CV27_04'].astype('str').str.zfill(2)\n",
    "w5['ID_student'] = w5['CV27_01'] +w5['CV27_02'] + w5['CV27_03'] + w5['CV27_04'].astype('str').str.zfill(2)\n",
    "w6['ID_student'] = w6['SC08_01'] +w6['SC08_02'] + w6['SC08_03'] + w6['SC08_04'].astype('str').str.zfill(2)\n",
    "w8['ID_student'] = w8['CO01_01'].str[:5]"
   ]
  },
  {
   "cell_type": "code",
   "execution_count": 7,
   "metadata": {},
   "outputs": [],
   "source": [
    "# w1_swe = w1[['SWE_Ges']]\n",
    "# w3_swe = w3[['KO01_01','KO01_02','KO01_03', 'KO01_04','KO01_05']]\n",
    "# w4_swe = w4[['KO01_01','KO01_02','KO01_03', 'KO01_04','KO01_05']]\n",
    "# w5_swe = w5[['KO01_01','KO01_02','KO01_03', 'KO01_04','KO01_05']]\n",
    "# w6_swe = w6[['KO01_01','KO01_02','KO01_03', 'KO01_04','KO01_05']]\n",
    "# w8_swe = w8[['SW01_01', 'SW01_02','SW01_03','SW01_04', 'SW01_05']]"
   ]
  },
  {
   "cell_type": "code",
   "execution_count": 8,
   "metadata": {},
   "outputs": [
    {
     "data": {
      "text/plain": [
       "0        2\n",
       "1        4\n",
       "2        8\n",
       "3        2\n",
       "4        6\n",
       "      ... \n",
       "242      4\n",
       "243      2\n",
       "244      5\n",
       "245      4\n",
       "246    NaN\n",
       "Name: PS13, Length: 247, dtype: category\n",
       "Categories (8, object): ['&gt;10', '1', '2', '3', '4', '5', '6', '8']"
      ]
     },
     "execution_count": 8,
     "metadata": {},
     "output_type": "execute_result"
    }
   ],
   "source": [
    "w4['PS13']"
   ]
  },
  {
   "cell_type": "markdown",
   "metadata": {},
   "source": [
    "### Selection of relevant columns"
   ]
  },
  {
   "cell_type": "code",
   "execution_count": 9,
   "metadata": {},
   "outputs": [],
   "source": [
    "# w1 --> D5 Semester #\n",
    "# w3,w4 --> PS13 Semester #\n",
    "# w5 --> PS13 Semester, Beginn des Studium\n",
    "# w6 --> SF02 Semester, Beginn des Studium\n",
    "# w8 --> SD05 Semester, Beginn des Studium\n",
    "\n",
    "w1_ = w1[['Praktikum','SWE_Ges','FINISHED','TIME_SUM','D5','D2','D1']].copy()\n",
    "# w2_ = w2[['Praktikum_w2','KO01_01','KO01_02','KO01_03', 'KO01_04','KO01_05','FINISHED','TIME_SUM']].copy()\n",
    "w3_ = w3[['Praktikum','KO01_01','KO01_02','KO01_03', 'KO01_04','KO01_05','FINISHED','TIME_SUM','PS13','D002','D001_01']].copy()\n",
    "w4_ = w4[['Praktikum','KO01_01','KO01_02','KO01_03', 'KO01_04','KO01_05','FINISHED','TIME_SUM','PS13','D002','D001_01']].copy()\n",
    "w5_ = w5[['Praktikum','KO01_01','KO01_02','KO01_03', 'KO01_04','KO01_05','FINISHED','TIME_SUM','PS13','SD02','SD01_01']].copy()\n",
    "w6_ = w6[['Praktikum','KO01_01','KO01_02','KO01_03', 'KO01_04','KO01_05','FINISHED','TIME_SUM','SF02','SD02','SD01_01']].copy()\n",
    "w8_ = w8[['Praktikum','SW01_01', 'SW01_02','SW01_03','SW01_04', 'SW01_05','FINISHED','TIME_SUM','SD05','SD02','SD01_01']].copy()\n",
    "\n",
    "w1_.rename(columns={\"D2\": \"geschlecht\", \"D1\": \"age\"}, inplace=True)\n",
    "w3_.rename(columns={\"D002\": \"geschlecht\", \"D001_01\": \"age\"}, inplace=True)\n",
    "w4_.rename(columns={\"D002\": \"geschlecht\", \"D001_01\": \"age\"}, inplace=True)\n",
    "w5_.rename(columns={\"SD02\": \"geschlecht\", \"SD01_01\": \"age\"}, inplace=True)\n",
    "w6_.rename(columns={\"SD02\": \"geschlecht\", \"SD01_01\": \"age\"}, inplace=True)\n",
    "w8_.rename(columns={\"SD02\": \"geschlecht\", \"SD01_01\": \"age\"}, inplace=True)\n"
   ]
  },
  {
   "cell_type": "code",
   "execution_count": 10,
   "metadata": {},
   "outputs": [
    {
     "name": "stderr",
     "output_type": "stream",
     "text": [
      "/var/folders/7d/_gpk9ss57ds45n_1n6vsctt40000gn/T/ipykernel_7697/3971328352.py:1: SettingWithCopyWarning: \n",
      "A value is trying to be set on a copy of a slice from a DataFrame\n",
      "\n",
      "See the caveats in the documentation: https://pandas.pydata.org/pandas-docs/stable/user_guide/indexing.html#returning-a-view-versus-a-copy\n",
      "  w1_['age'][w1_['age'] == \"\"] = np.nan\n",
      "/var/folders/7d/_gpk9ss57ds45n_1n6vsctt40000gn/T/ipykernel_7697/3971328352.py:2: SettingWithCopyWarning: \n",
      "A value is trying to be set on a copy of a slice from a DataFrame\n",
      "\n",
      "See the caveats in the documentation: https://pandas.pydata.org/pandas-docs/stable/user_guide/indexing.html#returning-a-view-versus-a-copy\n",
      "  w3_['age'][w3_['age'] == \"\"] = np.nan\n",
      "/var/folders/7d/_gpk9ss57ds45n_1n6vsctt40000gn/T/ipykernel_7697/3971328352.py:3: SettingWithCopyWarning: \n",
      "A value is trying to be set on a copy of a slice from a DataFrame\n",
      "\n",
      "See the caveats in the documentation: https://pandas.pydata.org/pandas-docs/stable/user_guide/indexing.html#returning-a-view-versus-a-copy\n",
      "  w4_['age'][w4_['age'] == \"\"] = np.nan\n",
      "/var/folders/7d/_gpk9ss57ds45n_1n6vsctt40000gn/T/ipykernel_7697/3971328352.py:4: SettingWithCopyWarning: \n",
      "A value is trying to be set on a copy of a slice from a DataFrame\n",
      "\n",
      "See the caveats in the documentation: https://pandas.pydata.org/pandas-docs/stable/user_guide/indexing.html#returning-a-view-versus-a-copy\n",
      "  w5_['age'][w5_['age'] == \"\"] = np.nan\n",
      "/var/folders/7d/_gpk9ss57ds45n_1n6vsctt40000gn/T/ipykernel_7697/3971328352.py:5: SettingWithCopyWarning: \n",
      "A value is trying to be set on a copy of a slice from a DataFrame\n",
      "\n",
      "See the caveats in the documentation: https://pandas.pydata.org/pandas-docs/stable/user_guide/indexing.html#returning-a-view-versus-a-copy\n",
      "  w6_['age'][w6_['age'] == \"\"] = np.nan\n",
      "/var/folders/7d/_gpk9ss57ds45n_1n6vsctt40000gn/T/ipykernel_7697/3971328352.py:6: SettingWithCopyWarning: \n",
      "A value is trying to be set on a copy of a slice from a DataFrame\n",
      "\n",
      "See the caveats in the documentation: https://pandas.pydata.org/pandas-docs/stable/user_guide/indexing.html#returning-a-view-versus-a-copy\n",
      "  w8_['age'][w8_['age'] == \"\"] = np.nan\n"
     ]
    }
   ],
   "source": [
    "w1_['age'][w1_['age'] == \"\"] = np.nan\n",
    "w3_['age'][w3_['age'] == \"\"] = np.nan\n",
    "w4_['age'][w4_['age'] == \"\"] = np.nan\n",
    "w5_['age'][w5_['age'] == \"\"] = np.nan\n",
    "w6_['age'][w6_['age'] == \"\"] = np.nan\n",
    "w8_['age'][w8_['age'] == \"\"] = np.nan"
   ]
  },
  {
   "cell_type": "code",
   "execution_count": 11,
   "metadata": {},
   "outputs": [
    {
     "data": {
      "text/plain": [
       "Praktikum\n",
       "FP B    108\n",
       "VP A     79\n",
       "VP B     38\n",
       "FP A     35\n",
       "Name: count, dtype: int64"
      ]
     },
     "execution_count": 11,
     "metadata": {},
     "output_type": "execute_result"
    }
   ],
   "source": [
    "w1_[\"Praktikum\"].value_counts()"
   ]
  },
  {
   "cell_type": "markdown",
   "metadata": {},
   "source": [
    "Select students who spent more than **300 seconds** on the test and **finished** the test"
   ]
  },
  {
   "cell_type": "code",
   "execution_count": 12,
   "metadata": {},
   "outputs": [],
   "source": [
    "TIME_SUM_THRESHOLD = 300\n",
    "\n",
    "w1_ = w1_[(w1_['FINISHED'] == 'ausgefüllt') & (w1_['TIME_SUM'] >TIME_SUM_THRESHOLD)].copy()\n",
    "w3_ = w3_[(w3_['FINISHED'] == 'ausgefüllt') & (w3_['TIME_SUM'] >TIME_SUM_THRESHOLD)].copy()\n",
    "w4_ = w4_[(w4_['FINISHED'] == 'ausgefüllt') & (w4_['TIME_SUM'] >TIME_SUM_THRESHOLD)].copy()\n",
    "w5_ = w5_[(w5_['FINISHED'] == 'ausgefüllt') & (w5_['TIME_SUM'] >TIME_SUM_THRESHOLD)].copy()\n",
    "w6_ = w6_[(w6_['FINISHED'] == 'ausgefüllt') & (w6_['TIME_SUM'] >TIME_SUM_THRESHOLD)].copy()\n",
    "w8_ = w8_[(w8_['FINISHED'] == 'ausgefüllt') & (w8_['TIME_SUM'] >TIME_SUM_THRESHOLD)].copy()"
   ]
  },
  {
   "cell_type": "code",
   "execution_count": 13,
   "metadata": {},
   "outputs": [
    {
     "data": {
      "text/plain": [
       "Praktikum\n",
       "FP B    108\n",
       "VP A     73\n",
       "VP B     36\n",
       "FP A     35\n",
       "Name: count, dtype: int64"
      ]
     },
     "execution_count": 13,
     "metadata": {},
     "output_type": "execute_result"
    }
   ],
   "source": [
    "## After applying the threshold and selection, compare with the output above\n",
    "\n",
    "w1_[\"Praktikum\"].value_counts()"
   ]
  },
  {
   "cell_type": "code",
   "execution_count": 14,
   "metadata": {},
   "outputs": [],
   "source": [
    "# Remove rows that have any missing values in any of the columns\n",
    "\n",
    "w1_.dropna(axis='index', how='any', inplace=True)\n",
    "w3_.dropna(axis='index', how='any',inplace=True)\n",
    "w4_.dropna(axis='index', how='any',inplace=True)\n",
    "w5_.dropna(axis='index', how='any',inplace=True)\n",
    "w6_.dropna(axis='index', how='any',inplace=True)\n",
    "w8_.dropna(axis='index', how='any',inplace=True)"
   ]
  },
  {
   "cell_type": "code",
   "execution_count": 15,
   "metadata": {},
   "outputs": [],
   "source": [
    "w3_.replace({\"trifft gar nicht zu\": 1, \"trifft voll zu\": 4}, inplace=True)\n",
    "w4_.replace({\"trifft gar nicht zu\": 1, \"trifft voll zu\": 4}, inplace=True)\n",
    "w5_.replace({\"trifft gar nicht zu\": 1, \"trifft voll zu\": 6}, inplace=True)\n",
    "w6_.replace({\"trifft gar nicht zu\": 1, \"trifft voll zu\": 6}, inplace=True)\n",
    "w8_.replace({\"trifft gar nicht zu\": 1, \"trifft voll zu\": 6}, inplace=True)"
   ]
  },
  {
   "cell_type": "code",
   "execution_count": 16,
   "metadata": {},
   "outputs": [],
   "source": [
    "w3_ = w3_.astype({'KO01_01': 'float16', 'KO01_02': 'float16', 'KO01_03': 'float16', 'KO01_04': 'float16', 'KO01_05': 'float16'})\n",
    "w4_ = w4_.astype({'KO01_01': 'float16', 'KO01_02': 'float16', 'KO01_03': 'float16', 'KO01_04': 'float16', 'KO01_05': 'float16'})\n",
    "w5_ = w5_.astype({'KO01_01': 'float16', 'KO01_02': 'float16', 'KO01_03': 'float16', 'KO01_04': 'float16', 'KO01_05': 'float16'})\n",
    "w6_ = w6_.astype({'KO01_01': 'float16', 'KO01_02': 'float16', 'KO01_03': 'float16', 'KO01_04': 'float16', 'KO01_05': 'float16'})\n",
    "w8_ = w8_.astype({'SW01_01': 'float16', 'SW01_02': 'float16', 'SW01_03': 'float16', 'SW01_04': 'float16', 'SW01_05': 'float16'})"
   ]
  },
  {
   "cell_type": "markdown",
   "metadata": {},
   "source": [
    "Calculate **SWE** and normalize value to **max 6**\n",
    "- Max value **4** in SWE : w1, w3, w4\n",
    "- Max value **6** in SWE : w5, w6, w8"
   ]
  },
  {
   "cell_type": "code",
   "execution_count": 17,
   "metadata": {},
   "outputs": [],
   "source": [
    "\n",
    "w3_['SWE'] = w3_[['KO01_01','KO01_02','KO01_03', 'KO01_04','KO01_05']].mean(axis=1)\n",
    "w4_['SWE'] = w4_[['KO01_01','KO01_02','KO01_03', 'KO01_04','KO01_05']].mean(axis=1)\n",
    "w5_['SWE'] = w5_[['KO01_01','KO01_02','KO01_03', 'KO01_04','KO01_05']].mean(axis=1)\n",
    "w6_['SWE'] = w6_[['KO01_01','KO01_02','KO01_03', 'KO01_04','KO01_05']].mean(axis=1)\n",
    "w8_['SWE'] = w8_[['SW01_01','SW01_02','SW01_03', 'SW01_04','SW01_05']].mean(axis=1)\n",
    "\n",
    "w1_['SWE_norm'] = w1_['SWE_Ges']/4 * 6\n",
    "w3_['SWE_norm'] = w3_['SWE']/4 * 6\n",
    "w4_['SWE_norm'] = w4_['SWE']/4 * 6\n",
    "\n",
    "w5_['SWE_norm'] = w5_['SWE']\n",
    "w6_['SWE_norm'] = w6_['SWE']\n",
    "w8_['SWE_norm'] = w8_['SWE']"
   ]
  },
  {
   "cell_type": "markdown",
   "metadata": {},
   "source": [
    "**Define Semester**"
   ]
  },
  {
   "cell_type": "code",
   "execution_count": 18,
   "metadata": {},
   "outputs": [],
   "source": [
    "def define_semester(beginn_studium, semester_welle):\n",
    "    if \"WS\" in beginn_studium:\n",
    "        beginn_studium = beginn_studium.replace(\"WS\", \"WiSe\")\n",
    "    if \"SS\" in beginn_studium:\n",
    "        beginn_studium = beginn_studium.replace(\"SS\", \"SoSe\")\n",
    "\n",
    "    current_year = semester_welle[5:9] # Year 2022\n",
    "    current_ws_ss = semester_welle[:4] # WiSe or SoSe\n",
    "\n",
    "    beginn_year =  beginn_studium[5:9]\n",
    "    beginn_ws_ss = beginn_studium[:4]\n",
    "\n",
    "    fruher = True if \"früher\" in beginn_studium else False\n",
    "    \n",
    "    actual_semester = 0\n",
    "    diff_year = int(current_year) - int(beginn_year)\n",
    "    if diff_year == 0 and (current_ws_ss == beginn_ws_ss):\n",
    "        actual_semester = 1\n",
    "    else:\n",
    "\n",
    "        if current_ws_ss == beginn_ws_ss:\n",
    "            actual_semester = (diff_year * 2) + 1\n",
    "        elif current_ws_ss == \"WiSe\" and beginn_ws_ss == \"SoSe\":\n",
    "            actual_semester = (diff_year * 2) + 2\n",
    "        else:\n",
    "            actual_semester = (diff_year * 2)\n",
    "\n",
    "    actual_semester =  \">=\" +str(actual_semester) if fruher else str(actual_semester)\n",
    "\n",
    "    return (actual_semester)"
   ]
  },
  {
   "cell_type": "code",
   "execution_count": 19,
   "metadata": {},
   "outputs": [],
   "source": [
    "# w1 --> D5 Semester #\n",
    "# w3,w4 --> PS13 Semester #\n",
    "# w5 --> PS13 Semester, Beginn des Studium\n",
    "# w6 --> SF02 Semester, Beginn des Studium\n",
    "# w8 --> SD05 Semester, Beginn des Studium\n",
    "\n",
    "w1_['Semester'] = w1_['D5']\n",
    "w3_['Semester'] = w3_['PS13']\n",
    "w4_['Semester'] = w4_['PS13']\n",
    "\n",
    "w5_['Semester'] = w5_['PS13'].apply(lambda row: define_semester(row, semester_welle='WiSe 2021'))\n",
    "w6_['Semester'] = w6_['SF02'].apply(lambda row: define_semester(row, semester_welle='SoSe 2022'))\n",
    "w8_['Semester'] = w8_['SD05'].apply(lambda row: define_semester(row, semester_welle='SoSe 2023'))"
   ]
  },
  {
   "cell_type": "code",
   "execution_count": 20,
   "metadata": {},
   "outputs": [
    {
     "data": {
      "text/html": [
       "<div>\n",
       "<style scoped>\n",
       "    .dataframe tbody tr th:only-of-type {\n",
       "        vertical-align: middle;\n",
       "    }\n",
       "\n",
       "    .dataframe tbody tr th {\n",
       "        vertical-align: top;\n",
       "    }\n",
       "\n",
       "    .dataframe thead th {\n",
       "        text-align: right;\n",
       "    }\n",
       "</style>\n",
       "<table border=\"1\" class=\"dataframe\">\n",
       "  <thead>\n",
       "    <tr style=\"text-align: right;\">\n",
       "      <th></th>\n",
       "      <th>Praktikum</th>\n",
       "      <th>SWE_Ges</th>\n",
       "      <th>FINISHED</th>\n",
       "      <th>TIME_SUM</th>\n",
       "      <th>D5</th>\n",
       "      <th>geschlecht</th>\n",
       "      <th>age</th>\n",
       "      <th>SWE_norm</th>\n",
       "      <th>Semester</th>\n",
       "    </tr>\n",
       "  </thead>\n",
       "  <tbody>\n",
       "    <tr>\n",
       "      <th>1</th>\n",
       "      <td>FP B</td>\n",
       "      <td>3.8</td>\n",
       "      <td>ausgefüllt</td>\n",
       "      <td>689.0</td>\n",
       "      <td>5.0</td>\n",
       "      <td>weiblich</td>\n",
       "      <td>34.0</td>\n",
       "      <td>5.7</td>\n",
       "      <td>5.0</td>\n",
       "    </tr>\n",
       "    <tr>\n",
       "      <th>2</th>\n",
       "      <td>FP A</td>\n",
       "      <td>3.6</td>\n",
       "      <td>ausgefüllt</td>\n",
       "      <td>689.0</td>\n",
       "      <td>5.0</td>\n",
       "      <td>männlich</td>\n",
       "      <td>26.0</td>\n",
       "      <td>5.4</td>\n",
       "      <td>5.0</td>\n",
       "    </tr>\n",
       "    <tr>\n",
       "      <th>4</th>\n",
       "      <td>VP A</td>\n",
       "      <td>2.4</td>\n",
       "      <td>ausgefüllt</td>\n",
       "      <td>1344.0</td>\n",
       "      <td>7.0</td>\n",
       "      <td>weiblich</td>\n",
       "      <td>23.0</td>\n",
       "      <td>3.6</td>\n",
       "      <td>7.0</td>\n",
       "    </tr>\n",
       "    <tr>\n",
       "      <th>5</th>\n",
       "      <td>VP A</td>\n",
       "      <td>3.2</td>\n",
       "      <td>ausgefüllt</td>\n",
       "      <td>632.0</td>\n",
       "      <td>7.0</td>\n",
       "      <td>männlich</td>\n",
       "      <td>24.0</td>\n",
       "      <td>4.8</td>\n",
       "      <td>7.0</td>\n",
       "    </tr>\n",
       "    <tr>\n",
       "      <th>13</th>\n",
       "      <td>FP B</td>\n",
       "      <td>3.8</td>\n",
       "      <td>ausgefüllt</td>\n",
       "      <td>986.0</td>\n",
       "      <td>5.0</td>\n",
       "      <td>weiblich</td>\n",
       "      <td>34.0</td>\n",
       "      <td>5.7</td>\n",
       "      <td>5.0</td>\n",
       "    </tr>\n",
       "    <tr>\n",
       "      <th>...</th>\n",
       "      <td>...</td>\n",
       "      <td>...</td>\n",
       "      <td>...</td>\n",
       "      <td>...</td>\n",
       "      <td>...</td>\n",
       "      <td>...</td>\n",
       "      <td>...</td>\n",
       "      <td>...</td>\n",
       "      <td>...</td>\n",
       "    </tr>\n",
       "    <tr>\n",
       "      <th>255</th>\n",
       "      <td>FP B</td>\n",
       "      <td>3.8</td>\n",
       "      <td>ausgefüllt</td>\n",
       "      <td>2780.0</td>\n",
       "      <td>5.0</td>\n",
       "      <td>männlich</td>\n",
       "      <td>23.0</td>\n",
       "      <td>5.7</td>\n",
       "      <td>5.0</td>\n",
       "    </tr>\n",
       "    <tr>\n",
       "      <th>256</th>\n",
       "      <td>FP B</td>\n",
       "      <td>3.8</td>\n",
       "      <td>ausgefüllt</td>\n",
       "      <td>814.0</td>\n",
       "      <td>5.0</td>\n",
       "      <td>weiblich</td>\n",
       "      <td>22.0</td>\n",
       "      <td>5.7</td>\n",
       "      <td>5.0</td>\n",
       "    </tr>\n",
       "    <tr>\n",
       "      <th>257</th>\n",
       "      <td>FP B</td>\n",
       "      <td>3.6</td>\n",
       "      <td>ausgefüllt</td>\n",
       "      <td>1376.0</td>\n",
       "      <td>5.0</td>\n",
       "      <td>weiblich</td>\n",
       "      <td>21.0</td>\n",
       "      <td>5.4</td>\n",
       "      <td>5.0</td>\n",
       "    </tr>\n",
       "    <tr>\n",
       "      <th>258</th>\n",
       "      <td>FP B</td>\n",
       "      <td>4.0</td>\n",
       "      <td>ausgefüllt</td>\n",
       "      <td>941.0</td>\n",
       "      <td>5.0</td>\n",
       "      <td>weiblich</td>\n",
       "      <td>21.0</td>\n",
       "      <td>6.0</td>\n",
       "      <td>5.0</td>\n",
       "    </tr>\n",
       "    <tr>\n",
       "      <th>259</th>\n",
       "      <td>FP B</td>\n",
       "      <td>3.4</td>\n",
       "      <td>ausgefüllt</td>\n",
       "      <td>1078.0</td>\n",
       "      <td>5.0</td>\n",
       "      <td>weiblich</td>\n",
       "      <td>20.0</td>\n",
       "      <td>5.1</td>\n",
       "      <td>5.0</td>\n",
       "    </tr>\n",
       "  </tbody>\n",
       "</table>\n",
       "<p>219 rows × 9 columns</p>\n",
       "</div>"
      ],
      "text/plain": [
       "    Praktikum  SWE_Ges    FINISHED  TIME_SUM   D5 geschlecht   age  SWE_norm  \\\n",
       "1        FP B      3.8  ausgefüllt     689.0  5.0   weiblich  34.0       5.7   \n",
       "2        FP A      3.6  ausgefüllt     689.0  5.0   männlich  26.0       5.4   \n",
       "4        VP A      2.4  ausgefüllt    1344.0  7.0   weiblich  23.0       3.6   \n",
       "5        VP A      3.2  ausgefüllt     632.0  7.0   männlich  24.0       4.8   \n",
       "13       FP B      3.8  ausgefüllt     986.0  5.0   weiblich  34.0       5.7   \n",
       "..        ...      ...         ...       ...  ...        ...   ...       ...   \n",
       "255      FP B      3.8  ausgefüllt    2780.0  5.0   männlich  23.0       5.7   \n",
       "256      FP B      3.8  ausgefüllt     814.0  5.0   weiblich  22.0       5.7   \n",
       "257      FP B      3.6  ausgefüllt    1376.0  5.0   weiblich  21.0       5.4   \n",
       "258      FP B      4.0  ausgefüllt     941.0  5.0   weiblich  21.0       6.0   \n",
       "259      FP B      3.4  ausgefüllt    1078.0  5.0   weiblich  20.0       5.1   \n",
       "\n",
       "     Semester  \n",
       "1         5.0  \n",
       "2         5.0  \n",
       "4         7.0  \n",
       "5         7.0  \n",
       "13        5.0  \n",
       "..        ...  \n",
       "255       5.0  \n",
       "256       5.0  \n",
       "257       5.0  \n",
       "258       5.0  \n",
       "259       5.0  \n",
       "\n",
       "[219 rows x 9 columns]"
      ]
     },
     "execution_count": 20,
     "metadata": {},
     "output_type": "execute_result"
    }
   ],
   "source": [
    "w1_"
   ]
  },
  {
   "cell_type": "markdown",
   "metadata": {},
   "source": [
    "#### Groups by praktikum"
   ]
  },
  {
   "cell_type": "code",
   "execution_count": 21,
   "metadata": {},
   "outputs": [],
   "source": [
    "from collections import defaultdict\n",
    "selected_columns = ['Praktikum','SWE_norm','Semester','geschlecht','age']\n",
    "wellen = [\n",
    "    w1_[selected_columns].values,\n",
    "    w3_[selected_columns].values, \n",
    "    w4_[selected_columns].values, \n",
    "    w5_[selected_columns].values, \n",
    "    w6_[selected_columns].values, \n",
    "    w8_[selected_columns].values\n",
    "]\n",
    "\n",
    "groups_praktikum = defaultdict(list)\n",
    "\n",
    "for vals in wellen:\n",
    "    for row in vals:\n",
    "        groups_praktikum[row[0]].append(row)\n",
    "\n",
    "for key in groups_praktikum.keys():\n",
    "    groups_praktikum[key] = np.array(groups_praktikum[key])"
   ]
  },
  {
   "cell_type": "code",
   "execution_count": 22,
   "metadata": {},
   "outputs": [
    {
     "data": {
      "text/html": [
       "<div>\n",
       "<style scoped>\n",
       "    .dataframe tbody tr th:only-of-type {\n",
       "        vertical-align: middle;\n",
       "    }\n",
       "\n",
       "    .dataframe tbody tr th {\n",
       "        vertical-align: top;\n",
       "    }\n",
       "\n",
       "    .dataframe thead th {\n",
       "        text-align: right;\n",
       "    }\n",
       "</style>\n",
       "<table border=\"1\" class=\"dataframe\">\n",
       "  <thead>\n",
       "    <tr style=\"text-align: right;\">\n",
       "      <th></th>\n",
       "      <th>Praktikum</th>\n",
       "      <th>SWE_norm</th>\n",
       "      <th>Semester</th>\n",
       "      <th>geschlecht</th>\n",
       "      <th>age</th>\n",
       "    </tr>\n",
       "  </thead>\n",
       "  <tbody>\n",
       "    <tr>\n",
       "      <th>0</th>\n",
       "      <td>FP B</td>\n",
       "      <td>5.7</td>\n",
       "      <td>5.0</td>\n",
       "      <td>weiblich</td>\n",
       "      <td>34.0</td>\n",
       "    </tr>\n",
       "    <tr>\n",
       "      <th>1</th>\n",
       "      <td>FP B</td>\n",
       "      <td>5.7</td>\n",
       "      <td>5.0</td>\n",
       "      <td>weiblich</td>\n",
       "      <td>34.0</td>\n",
       "    </tr>\n",
       "    <tr>\n",
       "      <th>2</th>\n",
       "      <td>FP B</td>\n",
       "      <td>4.5</td>\n",
       "      <td>5.0</td>\n",
       "      <td>weiblich</td>\n",
       "      <td>20.0</td>\n",
       "    </tr>\n",
       "    <tr>\n",
       "      <th>3</th>\n",
       "      <td>FP B</td>\n",
       "      <td>3.9</td>\n",
       "      <td>7.0</td>\n",
       "      <td>weiblich</td>\n",
       "      <td>23.0</td>\n",
       "    </tr>\n",
       "    <tr>\n",
       "      <th>4</th>\n",
       "      <td>FP B</td>\n",
       "      <td>3.9</td>\n",
       "      <td>6.0</td>\n",
       "      <td>männlich</td>\n",
       "      <td>23.0</td>\n",
       "    </tr>\n",
       "  </tbody>\n",
       "</table>\n",
       "</div>"
      ],
      "text/plain": [
       "  Praktikum SWE_norm Semester geschlecht   age\n",
       "0      FP B      5.7      5.0   weiblich  34.0\n",
       "1      FP B      5.7      5.0   weiblich  34.0\n",
       "2      FP B      4.5      5.0   weiblich  20.0\n",
       "3      FP B      3.9      7.0   weiblich  23.0\n",
       "4      FP B      3.9      6.0   männlich  23.0"
      ]
     },
     "execution_count": 22,
     "metadata": {},
     "output_type": "execute_result"
    }
   ],
   "source": [
    "list_praktikums = pd.DataFrame(\n",
    "    np.concatenate(tuple(praktikum_values for praktikum_values in groups_praktikum.values()), axis=0),\n",
    "    columns=['Praktikum','SWE_norm','Semester','geschlecht','age']\n",
    ")\n",
    "list_praktikums.head()"
   ]
  },
  {
   "cell_type": "code",
   "execution_count": 23,
   "metadata": {},
   "outputs": [],
   "source": [
    "a = {}\n",
    "a[\"w1\"] = 4"
   ]
  },
  {
   "cell_type": "markdown",
   "metadata": {},
   "source": [
    "#### Praktikum in each welle"
   ]
  },
  {
   "cell_type": "code",
   "execution_count": 24,
   "metadata": {},
   "outputs": [
    {
     "data": {
      "text/html": [
       "<div>\n",
       "<style scoped>\n",
       "    .dataframe tbody tr th:only-of-type {\n",
       "        vertical-align: middle;\n",
       "    }\n",
       "\n",
       "    .dataframe tbody tr th {\n",
       "        vertical-align: top;\n",
       "    }\n",
       "\n",
       "    .dataframe thead th {\n",
       "        text-align: right;\n",
       "    }\n",
       "</style>\n",
       "<table border=\"1\" class=\"dataframe\">\n",
       "  <thead>\n",
       "    <tr style=\"text-align: right;\">\n",
       "      <th></th>\n",
       "      <th>EP_A</th>\n",
       "      <th>EP_B</th>\n",
       "      <th>FP_A</th>\n",
       "      <th>FP_B</th>\n",
       "      <th>VP_A</th>\n",
       "      <th>VP_B</th>\n",
       "    </tr>\n",
       "  </thead>\n",
       "  <tbody>\n",
       "    <tr>\n",
       "      <th>w1</th>\n",
       "      <td>NaN</td>\n",
       "      <td>NaN</td>\n",
       "      <td>4.882759</td>\n",
       "      <td>4.935484</td>\n",
       "      <td>4.904545</td>\n",
       "      <td>4.983871</td>\n",
       "    </tr>\n",
       "    <tr>\n",
       "      <th>w3</th>\n",
       "      <td>4.617188</td>\n",
       "      <td>NaN</td>\n",
       "      <td>4.667969</td>\n",
       "      <td>4.589844</td>\n",
       "      <td>4.945312</td>\n",
       "      <td>5.175781</td>\n",
       "    </tr>\n",
       "    <tr>\n",
       "      <th>w4</th>\n",
       "      <td>5.121094</td>\n",
       "      <td>NaN</td>\n",
       "      <td>4.875000</td>\n",
       "      <td>4.949219</td>\n",
       "      <td>5.285156</td>\n",
       "      <td>5.050781</td>\n",
       "    </tr>\n",
       "    <tr>\n",
       "      <th>w5</th>\n",
       "      <td>4.859375</td>\n",
       "      <td>NaN</td>\n",
       "      <td>4.644531</td>\n",
       "      <td>4.734375</td>\n",
       "      <td>4.746094</td>\n",
       "      <td>4.890625</td>\n",
       "    </tr>\n",
       "    <tr>\n",
       "      <th>w6</th>\n",
       "      <td>NaN</td>\n",
       "      <td>4.96875</td>\n",
       "      <td>4.898438</td>\n",
       "      <td>5.066406</td>\n",
       "      <td>4.746094</td>\n",
       "      <td>4.855469</td>\n",
       "    </tr>\n",
       "    <tr>\n",
       "      <th>w8</th>\n",
       "      <td>4.703125</td>\n",
       "      <td>4.78125</td>\n",
       "      <td>4.804688</td>\n",
       "      <td>4.738281</td>\n",
       "      <td>4.863281</td>\n",
       "      <td>4.609375</td>\n",
       "    </tr>\n",
       "  </tbody>\n",
       "</table>\n",
       "</div>"
      ],
      "text/plain": [
       "        EP_A     EP_B      FP_A      FP_B      VP_A      VP_B\n",
       "w1       NaN      NaN  4.882759  4.935484  4.904545  4.983871\n",
       "w3  4.617188      NaN  4.667969  4.589844  4.945312  5.175781\n",
       "w4  5.121094      NaN  4.875000  4.949219  5.285156  5.050781\n",
       "w5  4.859375      NaN  4.644531  4.734375  4.746094  4.890625\n",
       "w6       NaN  4.96875  4.898438  5.066406  4.746094  4.855469\n",
       "w8  4.703125  4.78125  4.804688  4.738281  4.863281  4.609375"
      ]
     },
     "execution_count": 24,
     "metadata": {},
     "output_type": "execute_result"
    }
   ],
   "source": [
    "from collections import defaultdict\n",
    "dict_wellen = {}\n",
    "wellen = [\n",
    "    w1_[selected_columns],\n",
    "    w3_[selected_columns], \n",
    "    w4_[selected_columns], \n",
    "    w5_[selected_columns], \n",
    "    w6_[selected_columns], \n",
    "    w8_[selected_columns],\n",
    "]\n",
    "\n",
    "wellen_names = [\"w1\",\"w3\",\"w4\",\"w5\",\"w6\",\"w8\"]\n",
    "for name,w in zip(wellen_names,wellen):\n",
    "   dict_wellen[name] = {\n",
    "      \"EP_A\" : w[w['Praktikum'] == 'EP A'][\"SWE_norm\"].mean(),\n",
    "      \"EP_B\" : w[w['Praktikum'] == 'EP B'][\"SWE_norm\"].mean(),\n",
    "      \"FP_A\" : w[w['Praktikum'] == 'FP A'][\"SWE_norm\"].mean(),\n",
    "      \"FP_B\" : w[w['Praktikum'] == 'FP B'][\"SWE_norm\"].mean(),\n",
    "      \"VP_A\" : w[w['Praktikum'] == 'VP A'][\"SWE_norm\"].mean(),\n",
    "      \"VP_B\" : w[w['Praktikum'] == 'VP B'][\"SWE_norm\"].mean()\n",
    "   }\n",
    "\n",
    "pd.DataFrame.from_dict(dict_wellen, orient=\"index\")  "
   ]
  },
  {
   "cell_type": "code",
   "execution_count": 25,
   "metadata": {},
   "outputs": [
    {
     "data": {
      "text/plain": [
       "nan"
      ]
     },
     "execution_count": 25,
     "metadata": {},
     "output_type": "execute_result"
    }
   ],
   "source": [
    "w1_[w1_['Praktikum'] == 'EP A'][\"SWE_norm\"].mean()"
   ]
  },
  {
   "cell_type": "code",
   "execution_count": 26,
   "metadata": {},
   "outputs": [
    {
     "data": {
      "text/plain": [
       "4.882758620689655"
      ]
     },
     "execution_count": 26,
     "metadata": {},
     "output_type": "execute_result"
    }
   ],
   "source": [
    "w1_[w1_['Praktikum'] == 'FP A']['SWE_norm'].mean()"
   ]
  },
  {
   "cell_type": "code",
   "execution_count": 27,
   "metadata": {},
   "outputs": [
    {
     "name": "stdout",
     "output_type": "stream",
     "text": [
      "./lists_11_02_2024/w1_list.sav\n",
      "./lists_11_02_2024/w3_list.sav\n",
      "./lists_11_02_2024/w4_list.sav\n",
      "./lists_11_02_2024/w5_list.sav\n",
      "./lists_11_02_2024/w6_list.sav\n",
      "./lists_11_02_2024/w8_list.sav\n"
     ]
    }
   ],
   "source": [
    "import pyreadstat\n",
    "\n",
    "pyreadstat.write_sav(list_praktikums, 'list_praktikums_11_02_2024.sav')\n",
    "\n",
    "for n,w in zip(wellen_names,wellen):\n",
    "    file = f\"./lists_11_02_2024/{n}_list.sav\"\n",
    "    print(file)\n",
    "    pyreadstat.write_sav(pd.DataFrame(w.values, columns=selected_columns), file)"
   ]
  },
  {
   "cell_type": "markdown",
   "metadata": {},
   "source": [
    "## Age"
   ]
  },
  {
   "cell_type": "code",
   "execution_count": 33,
   "metadata": {},
   "outputs": [],
   "source": [
    "for name,w in zip(wellen_names,wellen):\n",
    "    w.loc[:,'welle'] = name"
   ]
  },
  {
   "cell_type": "code",
   "execution_count": 30,
   "metadata": {},
   "outputs": [],
   "source": [
    "wellen_all = pd.concat(wellen)"
   ]
  },
  {
   "cell_type": "code",
   "execution_count": 32,
   "metadata": {},
   "outputs": [
    {
     "data": {
      "text/html": [
       "<div>\n",
       "<style scoped>\n",
       "    .dataframe tbody tr th:only-of-type {\n",
       "        vertical-align: middle;\n",
       "    }\n",
       "\n",
       "    .dataframe tbody tr th {\n",
       "        vertical-align: top;\n",
       "    }\n",
       "\n",
       "    .dataframe thead th {\n",
       "        text-align: right;\n",
       "    }\n",
       "</style>\n",
       "<table border=\"1\" class=\"dataframe\">\n",
       "  <thead>\n",
       "    <tr style=\"text-align: right;\">\n",
       "      <th></th>\n",
       "      <th></th>\n",
       "      <th>age</th>\n",
       "    </tr>\n",
       "    <tr>\n",
       "      <th>welle</th>\n",
       "      <th>geschlecht</th>\n",
       "      <th></th>\n",
       "    </tr>\n",
       "  </thead>\n",
       "  <tbody>\n",
       "    <tr>\n",
       "      <th rowspan=\"2\" valign=\"top\">w1</th>\n",
       "      <th>männlich</th>\n",
       "      <td>24.0</td>\n",
       "    </tr>\n",
       "    <tr>\n",
       "      <th>weiblich</th>\n",
       "      <td>22.0</td>\n",
       "    </tr>\n",
       "    <tr>\n",
       "      <th rowspan=\"2\" valign=\"top\">w3</th>\n",
       "      <th>männlich</th>\n",
       "      <td>24.0</td>\n",
       "    </tr>\n",
       "    <tr>\n",
       "      <th>weiblich</th>\n",
       "      <td>22.0</td>\n",
       "    </tr>\n",
       "    <tr>\n",
       "      <th rowspan=\"3\" valign=\"top\">w4</th>\n",
       "      <th>divers/andere</th>\n",
       "      <td>20.5</td>\n",
       "    </tr>\n",
       "    <tr>\n",
       "      <th>männlich</th>\n",
       "      <td>22.0</td>\n",
       "    </tr>\n",
       "    <tr>\n",
       "      <th>weiblich</th>\n",
       "      <td>21.0</td>\n",
       "    </tr>\n",
       "    <tr>\n",
       "      <th rowspan=\"3\" valign=\"top\">w5</th>\n",
       "      <th>divers/andere</th>\n",
       "      <td>22.5</td>\n",
       "    </tr>\n",
       "    <tr>\n",
       "      <th>männlich</th>\n",
       "      <td>23.0</td>\n",
       "    </tr>\n",
       "    <tr>\n",
       "      <th>weiblich</th>\n",
       "      <td>22.0</td>\n",
       "    </tr>\n",
       "    <tr>\n",
       "      <th rowspan=\"3\" valign=\"top\">w6</th>\n",
       "      <th>divers/andere</th>\n",
       "      <td>22.0</td>\n",
       "    </tr>\n",
       "    <tr>\n",
       "      <th>männlich</th>\n",
       "      <td>22.0</td>\n",
       "    </tr>\n",
       "    <tr>\n",
       "      <th>weiblich</th>\n",
       "      <td>21.0</td>\n",
       "    </tr>\n",
       "    <tr>\n",
       "      <th rowspan=\"3\" valign=\"top\">w8</th>\n",
       "      <th>divers</th>\n",
       "      <td>22.0</td>\n",
       "    </tr>\n",
       "    <tr>\n",
       "      <th>männlich</th>\n",
       "      <td>24.0</td>\n",
       "    </tr>\n",
       "    <tr>\n",
       "      <th>weiblich</th>\n",
       "      <td>22.0</td>\n",
       "    </tr>\n",
       "  </tbody>\n",
       "</table>\n",
       "</div>"
      ],
      "text/plain": [
       "                      age\n",
       "welle geschlecht         \n",
       "w1    männlich       24.0\n",
       "      weiblich       22.0\n",
       "w3    männlich       24.0\n",
       "      weiblich       22.0\n",
       "w4    divers/andere  20.5\n",
       "      männlich       22.0\n",
       "      weiblich       21.0\n",
       "w5    divers/andere  22.5\n",
       "      männlich       23.0\n",
       "      weiblich       22.0\n",
       "w6    divers/andere  22.0\n",
       "      männlich       22.0\n",
       "      weiblich       21.0\n",
       "w8    divers         22.0\n",
       "      männlich       24.0\n",
       "      weiblich       22.0"
      ]
     },
     "execution_count": 32,
     "metadata": {},
     "output_type": "execute_result"
    }
   ],
   "source": [
    "wellen_all[['welle','geschlecht','age']].groupby(by=[\"welle\",\"geschlecht\"]).median()"
   ]
  },
  {
   "cell_type": "code",
   "execution_count": null,
   "metadata": {},
   "outputs": [],
   "source": []
  }
 ],
 "metadata": {
  "kernelspec": {
   "display_name": "Python 3",
   "language": "python",
   "name": "python3"
  },
  "language_info": {
   "codemirror_mode": {
    "name": "ipython",
    "version": 3
   },
   "file_extension": ".py",
   "mimetype": "text/x-python",
   "name": "python",
   "nbconvert_exporter": "python",
   "pygments_lexer": "ipython3",
   "version": "3.8.18"
  }
 },
 "nbformat": 4,
 "nbformat_minor": 2
}
